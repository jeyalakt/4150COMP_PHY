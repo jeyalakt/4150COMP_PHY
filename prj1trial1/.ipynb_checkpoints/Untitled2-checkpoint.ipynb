{
 "cells": [
  {
   "cell_type": "code",
   "execution_count": 4,
   "metadata": {},
   "outputs": [
    {
     "ename": "SyntaxError",
     "evalue": "EOL while scanning string literal (<ipython-input-4-f7b78dacc20c>, line 3)",
     "output_type": "error",
     "traceback": [
      "\u001b[1;36m  File \u001b[1;32m\"<ipython-input-4-f7b78dacc20c>\"\u001b[1;36m, line \u001b[1;32m3\u001b[0m\n\u001b[1;33m    path = 'C:\\users\\Bruker\\FYS-4150-COMP-PHY`\\build-prjitrial1-Desktop_Qt_5_13_0_minGW_64_bit-debug\\'\u001b[0m\n\u001b[1;37m                                                                                                      ^\u001b[0m\n\u001b[1;31mSyntaxError\u001b[0m\u001b[1;31m:\u001b[0m EOL while scanning string literal\n"
     ]
    }
   ],
   "source": [
    "import glob\n",
    "import errno\n",
    "path = 'C:/users/Bruker/FYS-4150-COMP-PHY/build-prjitrial1-Desktop_Qt_5_13_0_minGW_64_bit-debug/'\n",
    "#C:\\Users\\Bruker\\jeya\\FYS-4150-COMP-PHY\\build-prj1trial1-Desktop_Qt_5_13_0_MinGW_64_bit-Debug.opfile1\n",
    "files = glob.glob(path)\n",
    "for name in files:\n",
    "    try:\n",
    "        with open(name) as f:\n",
    "            pass # do what you want\n",
    "    except IOError as exc:\n",
    "        if exc.errno != errno.EISDIR:\n",
    "            raise"
   ]
  },
  {
   "cell_type": "code",
   "execution_count": null,
   "metadata": {},
   "outputs": [],
   "source": []
  }
 ],
 "metadata": {
  "kernelspec": {
   "display_name": "Python 3",
   "language": "python",
   "name": "python3"
  },
  "language_info": {
   "codemirror_mode": {
    "name": "ipython",
    "version": 3
   },
   "file_extension": ".py",
   "mimetype": "text/x-python",
   "name": "python",
   "nbconvert_exporter": "python",
   "pygments_lexer": "ipython3",
   "version": "3.7.3"
  }
 },
 "nbformat": 4,
 "nbformat_minor": 2
}
