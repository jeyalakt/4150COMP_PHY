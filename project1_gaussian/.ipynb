{
 "cells": [
  {
   "cell_type": "code",
   "execution_count": 2,
   "metadata": {},
   "outputs": [],
   "source": [
    "import numpy as np\n",
    "import matplotlib.pyplot as plt\n",
    "from numpy.linalg import inv\n",
    "import scipy\n",
    "import time\n",
    "from scipy import linalg\n",
    "from sympy.solvers import solve\n",
    "def numerical(x):\n",
    "    u=-np.exp(-10*x) - (1-np.exp(-10))*x + 1\n",
    "    return u\n",
    "n=10\n",
    "\n",
    "\n",
    "A= np.zeros((n,n))\n",
    "A[0,0]=2\n",
    "A[0,1]=-1\n",
    "A[n-1,n-1]=2\n",
    "A[n-1,n-2]=-1\n",
    "for i in range(1,n-1):\n",
    "    A[i,i]=2\n",
    "    A[i,i+1] = -1\n",
    "    A[i,i-1]=-1\n",
    "    \n",
    "t_start = time.time()  \n",
    "h = 1.0 / (n + 1)\n",
    "\n",
    "f = np.zeros((n,1))\n",
    "for i in range(1,n+1):\n",
    "    f[i-1,0] = + 100*(np.exp(-10*h * i))\n",
    "\n",
    "#t = np.linspace(0,1,n)\n",
    "#Ainv = inv(A)\n",
    "#v= h**2 * (np.dot(Ainv,f))\n",
    "#h_i =[]\n",
    "\n",
    "#u = np.zeros((n,1))\n",
    "#e = np.zeros((n,1))\n",
    "#t = np.linspace(0, 1, n)\n",
    "start_time_1 = time.time()\n",
    "LU = linalg.lu_factor(A)\n",
    "x_LU = linalg.lu_solve(LU,f)\n",
    "time_LU = time.time() - start_time_1"
   ]
  },
  {
   "cell_type": "code",
   "execution_count": null,
   "metadata": {},
   "outputs": [],
   "source": []
  }
 ],
 "metadata": {
  "kernelspec": {
   "display_name": "Python 3",
   "language": "python",
   "name": "python3"
  },
  "language_info": {
   "codemirror_mode": {
    "name": "ipython",
    "version": 3
   },
   "file_extension": ".py",
   "mimetype": "text/x-python",
   "name": "python",
   "nbconvert_exporter": "python",
   "pygments_lexer": "ipython3",
   "version": "3.7.3"
  }
 },
 "nbformat": 4,
 "nbformat_minor": 2
}
