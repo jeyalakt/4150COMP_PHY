{
 "cells": [
  {
   "cell_type": "code",
   "execution_count": 5,
   "metadata": {},
   "outputs": [],
   "source": [
    "import glob\n",
    "import errno\n",
    "folder = 'C:/users/Bruker/FYS-4150-COMP-PHY/build-prjitrial1-Desktop_Qt_5_13_0_minGW_64_bit-debug/'\n",
    "#C:\\Users\\Bruker\\jeya\\FYS-4150-COMP-PHY\\build-prj1trial1-Desktop_Qt_5_13_0_MinGW_64_bit-Debug.opfile1\n",
    "files = glob.glob(path)\n",
    "for name in files:\n",
    "    try:\n",
    "        with open(name) as f:\n",
    "            pass # do what you want\n",
    "    except IOError as exc:\n",
    "        if exc.errno != errno.EISDIR:\n",
    "            raise"
   ]
  },
  {
   "cell_type": "code",
   "execution_count": null,
   "metadata": {},
   "outputs": [],
   "source": []
  }
 ],
 "metadata": {
  "kernelspec": {
   "display_name": "Python 3",
   "language": "python",
   "name": "python3"
  },
  "language_info": {
   "codemirror_mode": {
    "name": "ipython",
    "version": 3
   },
   "file_extension": ".py",
   "mimetype": "text/x-python",
   "name": "python",
   "nbconvert_exporter": "python",
   "pygments_lexer": "ipython3",
   "version": "3.7.3"
  }
 },
 "nbformat": 4,
 "nbformat_minor": 2
}
