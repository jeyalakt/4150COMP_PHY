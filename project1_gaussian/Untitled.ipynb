{
 "cells": [
  {
   "cell_type": "code",
   "execution_count": 5,
   "metadata": {},
   "outputs": [
    {
     "ename": "SystemExit",
     "evalue": "1",
     "output_type": "error",
     "traceback": [
      "An exception has occurred, use %tb to see the full traceback.\n",
      "\u001b[1;31mSystemExit\u001b[0m\u001b[1;31m:\u001b[0m 1\n"
     ]
    },
    {
     "name": "stderr",
     "output_type": "stream",
     "text": [
      "C:\\Users\\Bruker\\Anaconda3\\lib\\site-packages\\IPython\\core\\interactiveshell.py:3333: UserWarning: To exit: use 'exit', 'quit', or Ctrl-D.\n",
      "  warn(\"To exit: use 'exit', 'quit', or Ctrl-D.\", stacklevel=1)\n"
     ]
    }
   ],
   "source": [
    "import sys, os\n",
    "from  matplotlib import pyplot as plt\n",
    "import numpy as np\n",
    "\n",
    "# Command line arguments using sys.argv[]\n",
    "try:\n",
    "    filename = sys.argv[1]\n",
    "    exponent = int(sys.argv[2])\n",
    "except:\n",
    "    print( \"Usage of this script\", sys.argv[0], \"infile\", sys.argv[1], \"Exponent\", sys.argv[2], sys.exit(1))\n",
    "\n",
    "# Define command line text string \n",
    "cmdline  = './project1.x '+filename +' ' + str(exponent)\n",
    "# Now run code, here c++ code  which has been compiled and linked\n",
    "cmd = cmdline\n",
    "failure = os.system(cmd)\n",
    "if failure:\n",
    "   print('running project1 failed', sys.exit(1))\n",
    "\n",
    "# Start making figures looping over all exponents\n",
    "for i in range(1,exponent+1):\n",
    "#   define files to open data and make plots to\n",
    "    fout = filename+str(i)\n",
    "    figfile = fout+\".pdf\"\n",
    "    data = np.loadtxt(fout)\n",
    "    x = data[:,0]\n",
    "    solution = data[:,1]\n",
    "    exact = data[:,2]\n",
    "    plt.axis([0,1,0, 1.0])\n",
    "    numericalplot = plt.plot(x, solution, 'r:.', linewidth = 2.0, label = 'Numerical')\n",
    "    exactplot = plt.plot(x, exact, 'm:v', linewidth = 2.0, label = 'Exact')\n",
    "    plt.xlabel(r'$x$')\n",
    "    plt.ylabel(r'Solutions')\n",
    "    plt.savefig(figfile)\n",
    "#   Then clean up\n",
    "    plt.clf()"
   ]
  },
  {
   "cell_type": "code",
   "execution_count": null,
   "metadata": {},
   "outputs": [],
   "source": []
  }
 ],
 "metadata": {
  "kernelspec": {
   "display_name": "Python 3",
   "language": "python",
   "name": "python3"
  },
  "language_info": {
   "codemirror_mode": {
    "name": "ipython",
    "version": 3
   },
   "file_extension": ".py",
   "mimetype": "text/x-python",
   "name": "python",
   "nbconvert_exporter": "python",
   "pygments_lexer": "ipython3",
   "version": "3.7.3"
  }
 },
 "nbformat": 4,
 "nbformat_minor": 2
}
