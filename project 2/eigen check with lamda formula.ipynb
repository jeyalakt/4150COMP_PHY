{
 "cells": [
  {
   "cell_type": "code",
   "execution_count": 2,
   "metadata": {},
   "outputs": [
    {
     "name": "stdout",
     "output_type": "stream",
     "text": [
      "[[ 50. -25.   0. ...   0.   0.   0.]\n",
      " [-25.  50. -25. ...   0.   0.   0.]\n",
      " [  0. -25.  50. ...   0.   0.   0.]\n",
      " ...\n",
      " [  0.   0.   0. ...  50. -25.   0.]\n",
      " [  0.   0.   0. ... -25.  50. -25.]\n",
      " [  0.   0.   0. ...   0. -25.  50.]]\n",
      "0.0\n",
      "0.09473746473877753\n",
      "0.37859085146608606\n",
      "[9.48335631e-02+0.j 3.78974516e-01+0.j 8.51345016e-01+0.j\n",
      " 1.51015320e+00+0.j 2.35289998e+00+0.j 3.37638853e+00+0.j\n",
      " 4.57673641e+00+0.j 5.94939029e+00+0.j 7.48914321e+00+0.j\n",
      " 9.19015438e+00+0.j 1.10459713e+01+0.j 1.30495541e+01+0.j\n",
      " 1.51933027e+01+0.j 1.74690850e+01+0.j 1.98682682e+01+0.j\n",
      " 2.23817514e+01+0.j 2.50000000e+01+0.j 2.77130822e+01+0.j\n",
      " 3.05107063e+01+0.j 3.33822600e+01+0.j 3.63168505e+01+0.j\n",
      " 3.93033458e+01+0.j 4.23304173e+01+0.j 4.53865820e+01+0.j\n",
      " 4.84602471e+01+0.j 5.15397529e+01+0.j 5.46134180e+01+0.j\n",
      " 5.76695827e+01+0.j 6.06966542e+01+0.j 6.36831495e+01+0.j\n",
      " 6.66177400e+01+0.j 6.94892937e+01+0.j 7.22869178e+01+0.j\n",
      " 7.50000000e+01+0.j 7.76182486e+01+0.j 8.01317318e+01+0.j\n",
      " 8.25309150e+01+0.j 8.48066973e+01+0.j 8.69504459e+01+0.j\n",
      " 8.89540287e+01+0.j 9.08098456e+01+0.j 9.25108568e+01+0.j\n",
      " 9.40506097e+01+0.j 9.54232636e+01+0.j 9.66236115e+01+0.j\n",
      " 9.76471000e+01+0.j 9.84898468e+01+0.j 9.91486550e+01+0.j\n",
      " 9.96210255e+01+0.j 9.99051664e+01+0.j]\n"
     ]
    }
   ],
   "source": [
    "import numpy as np\n",
    "from scipy import linalg\n",
    "import time as time\n",
    "import sys\n",
    "\n",
    "#def creatToeplitz_Matrix(ru_min,ru_max,n):\n",
    "ru_max=10\n",
    "ru_min=0\n",
    "n=50\n",
    "h = (ru_max - ru_min)/n\n",
    "A= np.zeros((n,n), dtype=float)\n",
    "a = 2.0/h**2\n",
    "b = -1.0/h**2\n",
    "A[0,0]=a\n",
    "A[0,1]=b\n",
    "A[n-1,n-1]=a\n",
    "A[n-1,n-2]=b\n",
    "for i in range(1,n-1):\n",
    "    A[i,i]=a\n",
    "    A[i,i+1] = b\n",
    "    A[i,i-1]=b\n",
    "print (A)\n",
    "    \n",
    "for i in range (0 ,3):\n",
    "    lamda=a+2*b*np.cos((i*3.14)/(n+1))\n",
    "    print (lamda)\n",
    "#print (A)\n",
    "w,v=linalg.eig(A)\n",
    "w=np.sort(w)\n",
    "print(w)\n",
    "\n",
    "#print(A)\n",
    "   # return A"
   ]
  },
  {
   "cell_type": "code",
   "execution_count": null,
   "metadata": {},
   "outputs": [],
   "source": []
  }
 ],
 "metadata": {
  "kernelspec": {
   "display_name": "Python 3",
   "language": "python",
   "name": "python3"
  },
  "language_info": {
   "codemirror_mode": {
    "name": "ipython",
    "version": 3
   },
   "file_extension": ".py",
   "mimetype": "text/x-python",
   "name": "python",
   "nbconvert_exporter": "python",
   "pygments_lexer": "ipython3",
   "version": "3.7.3"
  }
 },
 "nbformat": 4,
 "nbformat_minor": 2
}
