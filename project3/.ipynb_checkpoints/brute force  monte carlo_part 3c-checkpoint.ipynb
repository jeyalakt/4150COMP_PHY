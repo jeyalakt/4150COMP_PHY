{
 "cells": [
  {
   "cell_type": "code",
   "execution_count": 23,
   "metadata": {
    "scrolled": true
   },
   "outputs": [
    {
     "name": "stdout",
     "output_type": "stream",
     "text": [
      "MC exe time 1.14796781539917\n",
      "sigma 4.391215649521221e-08\n",
      "int_MC\n",
      "0.20955227628382814\n",
      "relatative_error\n",
      "0.08818578296604326\n"
     ]
    }
   ],
   "source": [
    "from numpy import *\n",
    "import time as time\n",
    "import sys\n",
    "import matplotlib.pyplot as plt\n",
    "from scipy.stats import uniform\n",
    "\n",
    "# monte carlo brute force method using uniform distribution\n",
    "tol=1e-10\n",
    "outf = open('monte carlo brute.txt', 'w+')\n",
    "outf.write(\"n \\t a\\t  b\\t  MCbrute_resutlt\\t exact_result\\t realtive error\\t sigma\\t exe time_MC_bruteforce\\n\")\n",
    "outf.close()\n",
    "\n",
    "def func_6D(x1,y1,z1,x2,y2,z2):\n",
    "    alpha=2\n",
    "    func_val=0\n",
    "    r1=sqrt(x1*x1+y1*y1+z1*z1)\n",
    "    r2=sqrt(x2**2+y2**2+z2**2)\n",
    "    r1r2=sqrt((x1-x2)**2+(y1-y2)**2+(z1-z2)**2)\n",
    "    if (r1r2>=tol):\n",
    "        func_val=exp(-2*alpha*(r1+r2))/r1r2\n",
    "       # print(\"f val\",func_val)\n",
    "        return(func_val)\n",
    "    else:\n",
    "        return 0    \n",
    "\n",
    "A=[100000,500000,1000000,5000000,10000000]\n",
    "#A=[100000]\n",
    "for i in range (len(A)):\n",
    "    n=A[i]\n",
    "    a=-5\n",
    "    b=5\n",
    "    d=6\n",
    "    int_MC=0\n",
    "    sum_sigma=0\n",
    "    sigma=0\n",
    "    func_res=0\n",
    "    jacobi_det=(b-a)**d\n",
    "    x=zeros(n)\n",
    "    #exact_integral=5*3.14*3.14/256\n",
    "    MC_start_time=time.time()\n",
    "    for j in range (n):\n",
    "        x1 =random.uniform(a,b)\n",
    "        x2 =random.uniform(a,b)\n",
    "        y1= random.uniform(a,b)\n",
    "        y2= random.uniform(a,b)\n",
    "        z1= random.uniform(a,b)\n",
    "        z2= random.uniform(a,b)\n",
    "        #print(x1,y1,z1,x2,y2,z2)\n",
    "        func_res=func_6D(x1,y1,z1,x2,y2,z2)                     \n",
    "        int_MC = int_MC+func_res\n",
    "        # print(\"int mc\",int_MC)\n",
    "        x[j]=func_res\n",
    "        ##mod\n",
    "    MC_finish_time=time.time()\n",
    "    MC_exe_time=MC_finish_time- MC_start_time\n",
    "    print(\"MC exe time\", MC_exe_time)\n",
    "    #print(\"int_MC\")\n",
    "    #print(int_MC)\n",
    "    int_MC /=  n\n",
    "    #mean\n",
    "    for i in range (n):\n",
    "        sum_sigma+=(x[j]-int_MC)*(x[j]-int_MC)\n",
    "    sum_sigma=sum_sigma*jacobi_det/n\n",
    "    int_MC *= jacobi_det\n",
    "    print(\"sigma\",sum_sigma)\n",
    "    std=sqrt(sigma)/sqrt(n)\n",
    "    exact_integral=5*3.14*3.14/256\n",
    "    relative_error = abs(int_MC-exact_integral)/exact_integral;\n",
    "    print(\"int_MC\")\n",
    "    print(int_MC)\n",
    "    #print(\"exact integral\")\n",
    "    #print(exact_integral)\n",
    "    print(\"relative_error\")\n",
    "    print(relative_error)\n",
    "    outf=open('monte carlo brute.txt', 'a')\n",
    "    outf.write(str(n))\n",
    "    outf.write(\"\\t\")\n",
    "    outf.write(str(a))\n",
    "    outf.write(\"\\t\")\n",
    "    outf.write(str(b))\n",
    "    outf.write(\"\\t\")\n",
    "    outf.write(\"{:.6f}\".format(int_MC))\n",
    "    outf.write(\"\\t\")\n",
    "    outf.write(\"{:.6f}\".format(exact_integral))\n",
    "    outf.write(\"\\t\")\n",
    "    outf.write(\"{:.6f}\".format(relative_error))\n",
    "    outf.write(\"\\t\")\n",
    "    outf.write(\"{:.6e}\".format(sum_sigma))\n",
    "    outf.write(\"\\t\")\n",
    "    outf.write(\"{:.6f}\".format(MC_exe_time))\n",
    "    outf.write(\"\\n\")\n",
    "    outf.close()\n",
    "   "
   ]
  },
  {
   "cell_type": "code",
   "execution_count": null,
   "metadata": {},
   "outputs": [],
   "source": []
  },
  {
   "cell_type": "code",
   "execution_count": null,
   "metadata": {},
   "outputs": [],
   "source": []
  },
  {
   "cell_type": "code",
   "execution_count": null,
   "metadata": {},
   "outputs": [],
   "source": []
  },
  {
   "cell_type": "code",
   "execution_count": null,
   "metadata": {},
   "outputs": [],
   "source": []
  },
  {
   "cell_type": "code",
   "execution_count": null,
   "metadata": {},
   "outputs": [],
   "source": []
  },
  {
   "cell_type": "code",
   "execution_count": null,
   "metadata": {},
   "outputs": [],
   "source": []
  },
  {
   "cell_type": "code",
   "execution_count": null,
   "metadata": {},
   "outputs": [],
   "source": []
  }
 ],
 "metadata": {
  "kernelspec": {
   "display_name": "Python 3",
   "language": "python",
   "name": "python3"
  },
  "language_info": {
   "codemirror_mode": {
    "name": "ipython",
    "version": 3
   },
   "file_extension": ".py",
   "mimetype": "text/x-python",
   "name": "python",
   "nbconvert_exporter": "python",
   "pygments_lexer": "ipython3",
   "version": "3.7.3"
  }
 },
 "nbformat": 4,
 "nbformat_minor": 2
}
