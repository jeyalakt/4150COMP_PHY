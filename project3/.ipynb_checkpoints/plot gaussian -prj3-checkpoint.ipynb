{
 "cells": [
  {
   "cell_type": "code",
   "execution_count": null,
   "metadata": {
    "scrolled": true
   },
   "outputs": [],
   "source": [
    "import sys, os\n",
    "from  matplotlib import pyplot as plt\n",
    "import numpy as np\n",
    "import math\n",
    "import pylab\n",
    "import glob\n",
    "import errno\n",
    "\n",
    "\n",
    "\n",
    "#folder = 'C:/users/Bruker/FYS-4150-COMP-PHY/build-prjitrial1-Desktop_Qt_5_13_0_minGW_64_bit-debug/'\n",
    "# gaussian op folder = 'C:/users/Bruker/jeya/com phy prj data/prj 2/*'\n",
    "#folder = 'C:/Users/Bruker/4150COMP_PHY/op _low upp/*' # LU op \n",
    "folder = 'C:/Users/Bruker/4150COMP_PHY/project3/MC/' # gauss op\n",
    "#C:\\Users\\Bruker\\jeya\\com phy prj data\\prj 1\n",
    "\n",
    "#files=glob.glob(folder + \"*.txt\")\n",
    "filename='C:/Users/Bruker/4150COMP_PHY/project3/Mc all.txt'\n",
    "#print(files)\n",
    "#i=111\n",
    "for filename in files:\n",
    "    n=1\n",
    "   # print('filename', filename)\n",
    "    with open(filename) as f:\n",
    "        #lines=islice(f,1)\n",
    "        lines = f.readlines()[1:]\n",
    "        x = [float(line.split()[0]) for line in lines]\n",
    "        print(x)\n",
    "        y = [float(line.split()[6]) for line in lines]\n",
    "        print(y)\n",
    "      #  z = [float(line.split()[2]) for line in lines]\n",
    "       # e =[float(line.split()[3]) for line in lines]\n",
    "\n",
    "\n",
    "    #xmin=min(x)\n",
    "    #lxmin=math.log10(xmin)\n",
    "    #print(\"log 10min x\",lxmin)\n",
    "    #emax=max(e)\n",
    "    #print(\"max e\", emax)\n",
    "        plt.figure(1)\n",
    "       # plt.subplot(i)\n",
    "        plt.axis([10000,10000000,0, 0.05])\n",
    "        numericalplot = plt.plot(x, y, 'b:.', linewidth = 2.0, label = 'MC brute')\n",
    "       # exactplot = plt.plot(x, z, 'm:v', linewidh = 2.0, label = 'Exact')\n",
    "        plt.legend(loc='upper right')\n",
    "\n",
    "        plt.xlabel(r\"N\")\n",
    "        plt.ylabel(r\" sigma\")\n",
    "        plt.title(r\" plot of MC -brute force & exponential with importance sampling\")\n",
    "        plt.plot(x ,y)\n",
    "\n",
    "        #plt.plot(x ,z)\n",
    "    #plt.set_yscale('log')\n",
    "    #plt.plot(lxmin,emax)\n",
    "        plt.grid()\n",
    "        plt.savefig(filename.replace(\".txt\", \".png\"))\n",
    "        plt.show()\n",
    "\n",
    "        \n",
    "\n",
    "#i=i+1\n"
   ]
  },
  {
   "cell_type": "code",
   "execution_count": null,
   "metadata": {},
   "outputs": [],
   "source": []
  },
  {
   "cell_type": "code",
   "execution_count": null,
   "metadata": {},
   "outputs": [],
   "source": []
  },
  {
   "cell_type": "code",
   "execution_count": null,
   "metadata": {},
   "outputs": [],
   "source": []
  }
 ],
 "metadata": {
  "kernelspec": {
   "display_name": "Python 3",
   "language": "python",
   "name": "python3"
  },
  "language_info": {
   "codemirror_mode": {
    "name": "ipython",
    "version": 3
   },
   "file_extension": ".py",
   "mimetype": "text/x-python",
   "name": "python",
   "nbconvert_exporter": "python",
   "pygments_lexer": "ipython3",
   "version": "3.7.3"
  }
 },
 "nbformat": 4,
 "nbformat_minor": 2
}
